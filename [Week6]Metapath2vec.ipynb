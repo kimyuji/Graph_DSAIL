{
  "nbformat": 4,
  "nbformat_minor": 0,
  "metadata": {
    "colab": {
      "name": "[Week6]Metapath2vec",
      "provenance": [],
      "collapsed_sections": [],
      "machine_shape": "hm",
      "authorship_tag": "ABX9TyPVzrSAx0vydbNKbU5Wv18s",
      "include_colab_link": true
    },
    "kernelspec": {
      "name": "python3",
      "display_name": "Python 3"
    },
    "accelerator": "GPU"
  },
  "cells": [
    {
      "cell_type": "markdown",
      "metadata": {
        "id": "view-in-github",
        "colab_type": "text"
      },
      "source": [
        "<a href=\"https://colab.research.google.com/github/kimyuji/Graph_DSAIL/blob/main/%5BWeek6%5DMetapath2vec.ipynb\" target=\"_parent\"><img src=\"https://colab.research.google.com/assets/colab-badge.svg\" alt=\"Open In Colab\"/></a>"
      ]
    },
    {
      "cell_type": "code",
      "metadata": {
        "colab": {
          "base_uri": "https://localhost:8080/"
        },
        "id": "7kmR7DZBl1XP",
        "outputId": "e4620f71-2bdf-4302-ae8f-6f7477a65de2"
      },
      "source": [
        "from google.colab import drive\n",
        "drive.mount('/content/drive')"
      ],
      "execution_count": null,
      "outputs": [
        {
          "output_type": "stream",
          "text": [
            "Mounted at /content/drive\n"
          ],
          "name": "stdout"
        }
      ]
    },
    {
      "cell_type": "code",
      "metadata": {
        "colab": {
          "base_uri": "https://localhost:8080/"
        },
        "id": "WuHUU1damf_6",
        "outputId": "6d1bb52d-4847-423f-c803-16d7de74ac11"
      },
      "source": [
        "%cd /content/drive/MyDrive/Colab Notebooks/[인턴]2020겨울학기_DSAIL/Week6_Metapath2vec"
      ],
      "execution_count": null,
      "outputs": [
        {
          "output_type": "stream",
          "text": [
            "/content/drive/MyDrive/Colab Notebooks/[인턴]2020겨울학기_DSAIL/Week6_Metapath2vec\n"
          ],
          "name": "stdout"
        }
      ]
    },
    {
      "cell_type": "code",
      "metadata": {
        "id": "fQIWj1RaEU7k"
      },
      "source": [
        "import torch\n",
        "import argparse\n",
        "import torch.optim as optim\n",
        "from torch.utils.data import DataLoader\n",
        "\n",
        "from tqdm import tqdm\n",
        "\n",
        "from reading_data import DataReader, Metapath2vecDataset\n",
        "from model import SkipGramModel\n",
        "from download import AminerDataset, CustomDataset\n",
        "\n",
        "import easydict\n",
        "\n",
        "\n",
        "class Metapath2VecTrainer:\n",
        "    def __init__(self, args):\n",
        "        if args.aminer:\n",
        "            dataset = AminerDataset(args.path)\n",
        "        else:\n",
        "            dataset = CustomDataset(args.path)\n",
        "        self.data = DataReader(dataset, args.min_count, args.care_type)\n",
        "        dataset = Metapath2vecDataset(self.data, args.window_size)\n",
        "        self.dataloader = DataLoader(dataset, batch_size=args.batch_size,\n",
        "                                     shuffle=True, num_workers=args.num_workers, collate_fn=dataset.collate)\n",
        "\n",
        "        self.output_file_name = args.output_file\n",
        "        self.emb_size = len(self.data.word2id)\n",
        "        self.emb_dimension = args.dim\n",
        "        self.batch_size = args.batch_size\n",
        "        self.iterations = args.iterations\n",
        "        self.initial_lr = args.initial_lr\n",
        "        self.skip_gram_model = SkipGramModel(self.emb_size, self.emb_dimension)\n",
        "\n",
        "        self.use_cuda = torch.cuda.is_available()\n",
        "        self.device = torch.device(\"cuda\" if self.use_cuda else \"cpu\")\n",
        "        if self.use_cuda:\n",
        "            self.skip_gram_model.cuda()\n",
        "\n",
        "    def train(self):\n",
        "\n",
        "        optimizer = optim.SparseAdam(list(self.skip_gram_model.parameters()), lr=self.initial_lr)\n",
        "        scheduler = torch.optim.lr_scheduler.CosineAnnealingLR(optimizer, len(self.dataloader))\n",
        "\n",
        "        for iteration in range(self.iterations):\n",
        "            print(\"\\n\\n\\nIteration: \" + str(iteration + 1))\n",
        "            running_loss = 0.0\n",
        "            for i, sample_batched in enumerate(tqdm(self.dataloader)):\n",
        "\n",
        "                if len(sample_batched[0]) > 1:\n",
        "                    pos_u = sample_batched[0].to(self.device)\n",
        "                    pos_v = sample_batched[1].to(self.device)\n",
        "                    neg_v = sample_batched[2].to(self.device)\n",
        "\n",
        "                    scheduler.step()\n",
        "                    optimizer.zero_grad()\n",
        "                    loss = self.skip_gram_model.forward(pos_u, pos_v, neg_v)\n",
        "                    loss.backward()\n",
        "                    optimizer.step()\n",
        "\n",
        "                    running_loss = running_loss * 0.9 + loss.item() * 0.1\n",
        "                    if i > 0 and i % 500 == 0:\n",
        "                        print(\" Loss: \" + str(running_loss))\n",
        "\n",
        "        self.skip_gram_model.save_embedding(self.data.id2word, self.output_file_name)\n",
        "\n",
        "    # parser.add_argument('--aminer', action='store_true', help='Use AMiner dataset')\n",
        "    # parser.add_argument('--path', type=str, help=\"input_path\")\n",
        "    # parser.add_argument('--output_file', type=str, help='output_file')\n",
        "\n",
        "if __name__ == '__main__':\n",
        "    args = easydict.EasyDict({\n",
        "        \"aminer\" : 'store_true',\n",
        "        \"path\" : \"/content/drive/MyDrive/Colab Notebooks/[인턴]2020겨울학기_DSAIL/Week6_Metapath2vec\",\n",
        "        \"output_file\" : \"/content/drive/MyDrive/Colab Notebooks/[인턴]2020겨울학기_DSAIL/Week6_Metapath2vec/output\",\n",
        "        \"dim\" : 128,\n",
        "        \"window_size\" : 7,\n",
        "        \"iterations\" : 5,\n",
        "        \"batch_size\" : 500,\n",
        "        \"care_type\" : 0,\n",
        "        \"initial_lr\" : 0.025,\n",
        "        \"min_count\" : 5,\n",
        "        \"num_workers\" : 16})\n",
        "    m2v = Metapath2VecTrainer(args)                                                                                                                                                                                                                                                                                                                                                                                                                                                                                                                                                                                                                                                                                                                                                                                                                                                                                                                                                                                                                                                                                                                                                                                                                                                                                                                                                                                                                                                                                                                                                                                                                                                                                                                                                                                                                                                                                                                                                                                                                                                                                                                                                                                                                                                                                                                                                                                                                                                                                                                                                                                                                                                                                                                                                                                                                                                                                                                                                                                                                                                                                                                                                                                                                                                                                                                                                                                                                                                                                                                                                                                                                                                                                                                                                                                                                                                                                                                                                                                                                                                                                                                                                                                                                                                                                                                                                                                                                                                                                                                                                                                                                                                                                                                                                                                                                                                                                                                                                                                                                                                                                                                                                                                                                                                                                                                                                                                                                                                                                                                                                                                                                                                                                                                                                                                                                                                                                                                                                                                                                                                                                                                                                                                                                                                                                                                      \n",
        "    m2v.train()"
      ],
      "execution_count": null,
      "outputs": []
    }
  ]
}